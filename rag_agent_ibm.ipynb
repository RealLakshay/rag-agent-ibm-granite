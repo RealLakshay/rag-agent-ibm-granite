{
 "cells": [
  {
   "cell_type": "code",
   "execution_count": 1,
   "id": "175eb6b3-64d0-4ba2-9170-95677d25f766",
   "metadata": {},
   "outputs": [],
   "source": [
    "import sys\n",
    "assert sys.version_info >= (3, 10) and sys.version_info < (3, 13), \"Use Python 3.10, 3.11, or 3.12 to run this notebook.\""
   ]
  },
  {
   "cell_type": "code",
   "execution_count": 2,
   "id": "065b1f40-44d4-4d19-8b93-72b420528a15",
   "metadata": {},
   "outputs": [
    {
     "name": "stdout",
     "output_type": "stream",
     "text": [
      "Collecting git+https://github.com/ibm-granite-community/utils\n",
      "  Cloning https://github.com/ibm-granite-community/utils to c:\\users\\hilak\\appdata\\local\\temp\\pip-req-build-a3kx61k1\n",
      "  Resolved https://github.com/ibm-granite-community/utils to commit d653add1e49641dbf1207f2bb9572e6e28c9cbfb\n",
      "  Installing build dependencies: started\n",
      "  Installing build dependencies: finished with status 'done'\n",
      "  Getting requirements to build wheel: started\n",
      "  Getting requirements to build wheel: finished with status 'done'\n",
      "  Preparing metadata (pyproject.toml): started\n",
      "  Preparing metadata (pyproject.toml): finished with status 'done'\n",
      "Requirement already satisfied: transformers in c:\\users\\hilak\\anaconda3\\envs\\py312_env\\lib\\site-packages (4.53.2)\n",
      "Requirement already satisfied: langchain_community in c:\\users\\hilak\\anaconda3\\envs\\py312_env\\lib\\site-packages (0.3.27)\n",
      "Requirement already satisfied: langchain_milvus in c:\\users\\hilak\\anaconda3\\envs\\py312_env\\lib\\site-packages (0.2.1)\n",
      "Requirement already satisfied: replicate in c:\\users\\hilak\\anaconda3\\envs\\py312_env\\lib\\site-packages (1.0.7)\n",
      "Requirement already satisfied: wget in c:\\users\\hilak\\anaconda3\\envs\\py312_env\\lib\\site-packages (3.2)\n",
      "Requirement already satisfied: langchain_huggingface[full] in c:\\users\\hilak\\anaconda3\\envs\\py312_env\\lib\\site-packages (0.3.0)\n",
      "Requirement already satisfied: python-dotenv in c:\\users\\hilak\\anaconda3\\envs\\py312_env\\lib\\site-packages (from ibm-granite-community-utils==0.1.dev79) (1.1.1)\n",
      "Requirement already satisfied: langchain_core in c:\\users\\hilak\\anaconda3\\envs\\py312_env\\lib\\site-packages (from ibm-granite-community-utils==0.1.dev79) (0.3.69)\n",
      "Requirement already satisfied: typing_extensions in c:\\users\\hilak\\anaconda3\\envs\\py312_env\\lib\\site-packages (from ibm-granite-community-utils==0.1.dev79) (4.12.2)\n",
      "Requirement already satisfied: filelock in c:\\users\\hilak\\anaconda3\\envs\\py312_env\\lib\\site-packages (from transformers) (3.18.0)\n",
      "Requirement already satisfied: huggingface-hub<1.0,>=0.30.0 in c:\\users\\hilak\\anaconda3\\envs\\py312_env\\lib\\site-packages (from transformers) (0.33.4)\n",
      "Requirement already satisfied: numpy>=1.17 in c:\\users\\hilak\\anaconda3\\envs\\py312_env\\lib\\site-packages (from transformers) (2.3.1)\n",
      "Requirement already satisfied: packaging>=20.0 in c:\\users\\hilak\\anaconda3\\envs\\py312_env\\lib\\site-packages (from transformers) (24.2)\n",
      "Requirement already satisfied: pyyaml>=5.1 in c:\\users\\hilak\\anaconda3\\envs\\py312_env\\lib\\site-packages (from transformers) (6.0.2)\n",
      "Requirement already satisfied: regex!=2019.12.17 in c:\\users\\hilak\\anaconda3\\envs\\py312_env\\lib\\site-packages (from transformers) (2024.11.6)\n",
      "Requirement already satisfied: requests in c:\\users\\hilak\\anaconda3\\envs\\py312_env\\lib\\site-packages (from transformers) (2.32.4)\n",
      "Requirement already satisfied: tokenizers<0.22,>=0.21 in c:\\users\\hilak\\anaconda3\\envs\\py312_env\\lib\\site-packages (from transformers) (0.21.2)\n",
      "Requirement already satisfied: safetensors>=0.4.3 in c:\\users\\hilak\\anaconda3\\envs\\py312_env\\lib\\site-packages (from transformers) (0.5.3)\n",
      "Requirement already satisfied: tqdm>=4.27 in c:\\users\\hilak\\anaconda3\\envs\\py312_env\\lib\\site-packages (from transformers) (4.67.1)\n",
      "Requirement already satisfied: fsspec>=2023.5.0 in c:\\users\\hilak\\anaconda3\\envs\\py312_env\\lib\\site-packages (from huggingface-hub<1.0,>=0.30.0->transformers) (2025.7.0)\n",
      "Requirement already satisfied: langchain<1.0.0,>=0.3.26 in c:\\users\\hilak\\anaconda3\\envs\\py312_env\\lib\\site-packages (from langchain_community) (0.3.26)\n",
      "Requirement already satisfied: SQLAlchemy<3,>=1.4 in c:\\users\\hilak\\anaconda3\\envs\\py312_env\\lib\\site-packages (from langchain_community) (2.0.41)\n",
      "Requirement already satisfied: aiohttp<4.0.0,>=3.8.3 in c:\\users\\hilak\\anaconda3\\envs\\py312_env\\lib\\site-packages (from langchain_community) (3.12.14)\n",
      "Requirement already satisfied: tenacity!=8.4.0,<10,>=8.1.0 in c:\\users\\hilak\\anaconda3\\envs\\py312_env\\lib\\site-packages (from langchain_community) (9.1.2)\n",
      "Requirement already satisfied: dataclasses-json<0.7,>=0.5.7 in c:\\users\\hilak\\anaconda3\\envs\\py312_env\\lib\\site-packages (from langchain_community) (0.6.7)\n",
      "Requirement already satisfied: pydantic-settings<3.0.0,>=2.4.0 in c:\\users\\hilak\\anaconda3\\envs\\py312_env\\lib\\site-packages (from langchain_community) (2.10.1)\n",
      "Requirement already satisfied: langsmith>=0.1.125 in c:\\users\\hilak\\anaconda3\\envs\\py312_env\\lib\\site-packages (from langchain_community) (0.4.8)\n",
      "Requirement already satisfied: httpx-sse<1.0.0,>=0.4.0 in c:\\users\\hilak\\anaconda3\\envs\\py312_env\\lib\\site-packages (from langchain_community) (0.4.1)\n",
      "Requirement already satisfied: aiohappyeyeballs>=2.5.0 in c:\\users\\hilak\\anaconda3\\envs\\py312_env\\lib\\site-packages (from aiohttp<4.0.0,>=3.8.3->langchain_community) (2.6.1)\n",
      "Requirement already satisfied: aiosignal>=1.4.0 in c:\\users\\hilak\\anaconda3\\envs\\py312_env\\lib\\site-packages (from aiohttp<4.0.0,>=3.8.3->langchain_community) (1.4.0)\n",
      "Requirement already satisfied: attrs>=17.3.0 in c:\\users\\hilak\\anaconda3\\envs\\py312_env\\lib\\site-packages (from aiohttp<4.0.0,>=3.8.3->langchain_community) (24.3.0)\n",
      "Requirement already satisfied: frozenlist>=1.1.1 in c:\\users\\hilak\\anaconda3\\envs\\py312_env\\lib\\site-packages (from aiohttp<4.0.0,>=3.8.3->langchain_community) (1.7.0)\n",
      "Requirement already satisfied: multidict<7.0,>=4.5 in c:\\users\\hilak\\anaconda3\\envs\\py312_env\\lib\\site-packages (from aiohttp<4.0.0,>=3.8.3->langchain_community) (6.6.3)\n",
      "Requirement already satisfied: propcache>=0.2.0 in c:\\users\\hilak\\anaconda3\\envs\\py312_env\\lib\\site-packages (from aiohttp<4.0.0,>=3.8.3->langchain_community) (0.3.2)\n",
      "Requirement already satisfied: yarl<2.0,>=1.17.0 in c:\\users\\hilak\\anaconda3\\envs\\py312_env\\lib\\site-packages (from aiohttp<4.0.0,>=3.8.3->langchain_community) (1.20.1)\n",
      "Requirement already satisfied: marshmallow<4.0.0,>=3.18.0 in c:\\users\\hilak\\anaconda3\\envs\\py312_env\\lib\\site-packages (from dataclasses-json<0.7,>=0.5.7->langchain_community) (3.26.1)\n",
      "Requirement already satisfied: typing-inspect<1,>=0.4.0 in c:\\users\\hilak\\anaconda3\\envs\\py312_env\\lib\\site-packages (from dataclasses-json<0.7,>=0.5.7->langchain_community) (0.9.0)\n",
      "Requirement already satisfied: langchain-text-splitters<1.0.0,>=0.3.8 in c:\\users\\hilak\\anaconda3\\envs\\py312_env\\lib\\site-packages (from langchain<1.0.0,>=0.3.26->langchain_community) (0.3.8)\n",
      "Requirement already satisfied: pydantic<3.0.0,>=2.7.4 in c:\\users\\hilak\\anaconda3\\envs\\py312_env\\lib\\site-packages (from langchain<1.0.0,>=0.3.26->langchain_community) (2.11.7)\n",
      "Requirement already satisfied: jsonpatch<2.0,>=1.33 in c:\\users\\hilak\\anaconda3\\envs\\py312_env\\lib\\site-packages (from langchain_core->ibm-granite-community-utils==0.1.dev79) (1.33)\n",
      "Requirement already satisfied: jsonpointer>=1.9 in c:\\users\\hilak\\anaconda3\\envs\\py312_env\\lib\\site-packages (from jsonpatch<2.0,>=1.33->langchain_core->ibm-granite-community-utils==0.1.dev79) (3.0.0)\n",
      "Requirement already satisfied: annotated-types>=0.6.0 in c:\\users\\hilak\\anaconda3\\envs\\py312_env\\lib\\site-packages (from pydantic<3.0.0,>=2.7.4->langchain<1.0.0,>=0.3.26->langchain_community) (0.7.0)\n",
      "Requirement already satisfied: pydantic-core==2.33.2 in c:\\users\\hilak\\anaconda3\\envs\\py312_env\\lib\\site-packages (from pydantic<3.0.0,>=2.7.4->langchain<1.0.0,>=0.3.26->langchain_community) (2.33.2)\n",
      "Requirement already satisfied: typing-inspection>=0.4.0 in c:\\users\\hilak\\anaconda3\\envs\\py312_env\\lib\\site-packages (from pydantic<3.0.0,>=2.7.4->langchain<1.0.0,>=0.3.26->langchain_community) (0.4.1)\n",
      "Requirement already satisfied: charset_normalizer<4,>=2 in c:\\users\\hilak\\anaconda3\\envs\\py312_env\\lib\\site-packages (from requests->transformers) (3.3.2)\n",
      "Requirement already satisfied: idna<4,>=2.5 in c:\\users\\hilak\\anaconda3\\envs\\py312_env\\lib\\site-packages (from requests->transformers) (3.7)\n",
      "Requirement already satisfied: urllib3<3,>=1.21.1 in c:\\users\\hilak\\anaconda3\\envs\\py312_env\\lib\\site-packages (from requests->transformers) (2.5.0)\n",
      "Requirement already satisfied: certifi>=2017.4.17 in c:\\users\\hilak\\anaconda3\\envs\\py312_env\\lib\\site-packages (from requests->transformers) (2025.7.14)\n",
      "Requirement already satisfied: greenlet>=1 in c:\\users\\hilak\\anaconda3\\envs\\py312_env\\lib\\site-packages (from SQLAlchemy<3,>=1.4->langchain_community) (3.2.3)\n",
      "Requirement already satisfied: mypy-extensions>=0.3.0 in c:\\users\\hilak\\anaconda3\\envs\\py312_env\\lib\\site-packages (from typing-inspect<1,>=0.4.0->dataclasses-json<0.7,>=0.5.7->langchain_community) (1.1.0)\n",
      "Requirement already satisfied: sentence-transformers>=2.6.0 in c:\\users\\hilak\\anaconda3\\envs\\py312_env\\lib\\site-packages (from langchain_huggingface[full]) (5.0.0)\n",
      "Requirement already satisfied: pymilvus<3.0,>=2.5.7 in c:\\users\\hilak\\anaconda3\\envs\\py312_env\\lib\\site-packages (from langchain_milvus) (2.5.14)\n",
      "Requirement already satisfied: setuptools>69 in c:\\users\\hilak\\anaconda3\\envs\\py312_env\\lib\\site-packages (from pymilvus<3.0,>=2.5.7->langchain_milvus) (78.1.1)\n",
      "Requirement already satisfied: grpcio<=1.67.1,>=1.49.1 in c:\\users\\hilak\\anaconda3\\envs\\py312_env\\lib\\site-packages (from pymilvus<3.0,>=2.5.7->langchain_milvus) (1.67.1)\n",
      "Requirement already satisfied: protobuf>=3.20.0 in c:\\users\\hilak\\anaconda3\\envs\\py312_env\\lib\\site-packages (from pymilvus<3.0,>=2.5.7->langchain_milvus) (6.31.1)\n",
      "Requirement already satisfied: ujson>=2.0.0 in c:\\users\\hilak\\anaconda3\\envs\\py312_env\\lib\\site-packages (from pymilvus<3.0,>=2.5.7->langchain_milvus) (5.10.0)\n",
      "Requirement already satisfied: pandas>=1.2.4 in c:\\users\\hilak\\anaconda3\\envs\\py312_env\\lib\\site-packages (from pymilvus<3.0,>=2.5.7->langchain_milvus) (2.3.1)\n",
      "Requirement already satisfied: httpx<1,>=0.21.0 in c:\\users\\hilak\\anaconda3\\envs\\py312_env\\lib\\site-packages (from replicate) (0.28.1)\n",
      "Requirement already satisfied: anyio in c:\\users\\hilak\\anaconda3\\envs\\py312_env\\lib\\site-packages (from httpx<1,>=0.21.0->replicate) (4.7.0)\n",
      "Requirement already satisfied: httpcore==1.* in c:\\users\\hilak\\anaconda3\\envs\\py312_env\\lib\\site-packages (from httpx<1,>=0.21.0->replicate) (1.0.9)\n",
      "Requirement already satisfied: h11>=0.16 in c:\\users\\hilak\\anaconda3\\envs\\py312_env\\lib\\site-packages (from httpcore==1.*->httpx<1,>=0.21.0->replicate) (0.16.0)\n",
      "Requirement already satisfied: orjson<4.0.0,>=3.9.14 in c:\\users\\hilak\\anaconda3\\envs\\py312_env\\lib\\site-packages (from langsmith>=0.1.125->langchain_community) (3.11.0)\n",
      "Requirement already satisfied: requests-toolbelt<2.0.0,>=1.0.0 in c:\\users\\hilak\\anaconda3\\envs\\py312_env\\lib\\site-packages (from langsmith>=0.1.125->langchain_community) (1.0.0)\n",
      "Requirement already satisfied: zstandard<0.24.0,>=0.23.0 in c:\\users\\hilak\\anaconda3\\envs\\py312_env\\lib\\site-packages (from langsmith>=0.1.125->langchain_community) (0.23.0)\n",
      "Requirement already satisfied: python-dateutil>=2.8.2 in c:\\users\\hilak\\anaconda3\\envs\\py312_env\\lib\\site-packages (from pandas>=1.2.4->pymilvus<3.0,>=2.5.7->langchain_milvus) (2.9.0.post0)\n",
      "Requirement already satisfied: pytz>=2020.1 in c:\\users\\hilak\\anaconda3\\envs\\py312_env\\lib\\site-packages (from pandas>=1.2.4->pymilvus<3.0,>=2.5.7->langchain_milvus) (2025.2)\n",
      "Requirement already satisfied: tzdata>=2022.7 in c:\\users\\hilak\\anaconda3\\envs\\py312_env\\lib\\site-packages (from pandas>=1.2.4->pymilvus<3.0,>=2.5.7->langchain_milvus) (2025.2)\n",
      "Requirement already satisfied: six>=1.5 in c:\\users\\hilak\\anaconda3\\envs\\py312_env\\lib\\site-packages (from python-dateutil>=2.8.2->pandas>=1.2.4->pymilvus<3.0,>=2.5.7->langchain_milvus) (1.17.0)\n",
      "Requirement already satisfied: torch>=1.11.0 in c:\\users\\hilak\\anaconda3\\envs\\py312_env\\lib\\site-packages (from sentence-transformers>=2.6.0->langchain_huggingface[full]) (2.7.1)\n",
      "Requirement already satisfied: scikit-learn in c:\\users\\hilak\\anaconda3\\envs\\py312_env\\lib\\site-packages (from sentence-transformers>=2.6.0->langchain_huggingface[full]) (1.7.1)\n",
      "Requirement already satisfied: scipy in c:\\users\\hilak\\anaconda3\\envs\\py312_env\\lib\\site-packages (from sentence-transformers>=2.6.0->langchain_huggingface[full]) (1.16.0)\n",
      "Requirement already satisfied: Pillow in c:\\users\\hilak\\anaconda3\\envs\\py312_env\\lib\\site-packages (from sentence-transformers>=2.6.0->langchain_huggingface[full]) (11.3.0)\n",
      "Requirement already satisfied: sympy>=1.13.3 in c:\\users\\hilak\\anaconda3\\envs\\py312_env\\lib\\site-packages (from torch>=1.11.0->sentence-transformers>=2.6.0->langchain_huggingface[full]) (1.14.0)\n",
      "Requirement already satisfied: networkx in c:\\users\\hilak\\anaconda3\\envs\\py312_env\\lib\\site-packages (from torch>=1.11.0->sentence-transformers>=2.6.0->langchain_huggingface[full]) (3.5)\n",
      "Requirement already satisfied: jinja2 in c:\\users\\hilak\\anaconda3\\envs\\py312_env\\lib\\site-packages (from torch>=1.11.0->sentence-transformers>=2.6.0->langchain_huggingface[full]) (3.1.6)\n",
      "Requirement already satisfied: mpmath<1.4,>=1.1.0 in c:\\users\\hilak\\anaconda3\\envs\\py312_env\\lib\\site-packages (from sympy>=1.13.3->torch>=1.11.0->sentence-transformers>=2.6.0->langchain_huggingface[full]) (1.3.0)\n",
      "Requirement already satisfied: colorama in c:\\users\\hilak\\anaconda3\\envs\\py312_env\\lib\\site-packages (from tqdm>=4.27->transformers) (0.4.6)\n",
      "Requirement already satisfied: sniffio>=1.1 in c:\\users\\hilak\\anaconda3\\envs\\py312_env\\lib\\site-packages (from anyio->httpx<1,>=0.21.0->replicate) (1.3.0)\n",
      "Requirement already satisfied: MarkupSafe>=2.0 in c:\\users\\hilak\\anaconda3\\envs\\py312_env\\lib\\site-packages (from jinja2->torch>=1.11.0->sentence-transformers>=2.6.0->langchain_huggingface[full]) (3.0.2)\n",
      "Requirement already satisfied: joblib>=1.2.0 in c:\\users\\hilak\\anaconda3\\envs\\py312_env\\lib\\site-packages (from scikit-learn->sentence-transformers>=2.6.0->langchain_huggingface[full]) (1.5.1)\n",
      "Requirement already satisfied: threadpoolctl>=3.1.0 in c:\\users\\hilak\\anaconda3\\envs\\py312_env\\lib\\site-packages (from scikit-learn->sentence-transformers>=2.6.0->langchain_huggingface[full]) (3.6.0)\n",
      "Note: you may need to restart the kernel to use updated packages.\n"
     ]
    },
    {
     "name": "stderr",
     "output_type": "stream",
     "text": [
      "  Running command git clone --filter=blob:none --quiet https://github.com/ibm-granite-community/utils 'C:\\Users\\hilak\\AppData\\Local\\Temp\\pip-req-build-a3kx61k1'\n"
     ]
    }
   ],
   "source": [
    "%pip install git+https://github.com/ibm-granite-community/utils \\\n",
    "    transformers \\\n",
    "    langchain_community \\\n",
    "    langchain_huggingface[full] \\\n",
    "    langchain_milvus \\\n",
    "    replicate \\\n",
    "    wget"
   ]
  },
  {
   "cell_type": "code",
   "execution_count": 5,
   "id": "65543b7e-3973-4925-855e-d07e05d6a98c",
   "metadata": {},
   "outputs": [
    {
     "name": "stdout",
     "output_type": "stream",
     "text": [
      "Note: you may need to restart the kernel to use updated packages.\n"
     ]
    },
    {
     "name": "stderr",
     "output_type": "stream",
     "text": [
      "ERROR: Could not find a version that satisfies the requirement milvus-lite (from versions: none)\n",
      "ERROR: No matching distribution found for milvus-lite\n"
     ]
    }
   ],
   "source": [
    "%pip install milvus-lite"
   ]
  },
  {
   "cell_type": "code",
   "execution_count": 3,
   "id": "6a2ae4d9-e39a-4bd4-a90f-84a5ac59791e",
   "metadata": {},
   "outputs": [
    {
     "name": "stderr",
     "output_type": "stream",
     "text": [
      "C:\\Users\\hilak\\anaconda3\\envs\\py312_env\\Lib\\site-packages\\tqdm\\auto.py:21: TqdmWarning: IProgress not found. Please update jupyter and ipywidgets. See https://ipywidgets.readthedocs.io/en/stable/user_install.html\n",
      "  from .autonotebook import tqdm as notebook_tqdm\n"
     ]
    }
   ],
   "source": [
    "from langchain_huggingface import HuggingFaceEmbeddings\n",
    "from transformers import AutoTokenizer\n",
    "\n",
    "embeddings_model_path = \"ibm-granite/granite-embedding-30m-english\"\n",
    "embeddings_model = HuggingFaceEmbeddings(\n",
    "    model_name=embeddings_model_path,\n",
    ")\n",
    "embeddings_tokenizer = AutoTokenizer.from_pretrained(embeddings_model_path)"
   ]
  },
  {
   "cell_type": "code",
   "execution_count": 4,
   "id": "8f749a9c-af49-4880-b410-71b5e6586b75",
   "metadata": {},
   "outputs": [
    {
     "name": "stderr",
     "output_type": "stream",
     "text": [
      "2025-07-21 23:36:26,192 [ERROR][create_connection]: Failed to create new connection using: C:\\Users\\hilak\\AppData\\Local\\Temp\\milvus_su5raoav.db (_utils.py:48)\n"
     ]
    },
    {
     "name": "stdout",
     "output_type": "stream",
     "text": [
      "The vector database will be saved to C:\\Users\\hilak\\AppData\\Local\\Temp\\milvus_su5raoav.db\n"
     ]
    },
    {
     "ename": "ModuleNotFoundError",
     "evalue": "No module named 'milvus_lite'",
     "output_type": "error",
     "traceback": [
      "\u001b[31m---------------------------------------------------------------------------\u001b[39m",
      "\u001b[31mModuleNotFoundError\u001b[39m                       Traceback (most recent call last)",
      "    \u001b[31m[... skipping hidden 1 frame]\u001b[39m\n",
      "\u001b[36mCell\u001b[39m\u001b[36m \u001b[39m\u001b[32mIn[4]\u001b[39m\u001b[32m, line 7\u001b[39m\n\u001b[32m      5\u001b[39m \u001b[38;5;28mprint\u001b[39m(\u001b[33mf\u001b[39m\u001b[33m\"\u001b[39m\u001b[33mThe vector database will be saved to \u001b[39m\u001b[38;5;132;01m{\u001b[39;00mdb_file\u001b[38;5;132;01m}\u001b[39;00m\u001b[33m\"\u001b[39m)\n\u001b[32m----> \u001b[39m\u001b[32m7\u001b[39m vector_db = Milvus(\n\u001b[32m      8\u001b[39m     embedding_function=embeddings_model,\n\u001b[32m      9\u001b[39m     connection_args={\u001b[33m\"\u001b[39m\u001b[33muri\u001b[39m\u001b[33m\"\u001b[39m: db_file},\n\u001b[32m     10\u001b[39m     auto_id=\u001b[38;5;28;01mTrue\u001b[39;00m,\n\u001b[32m     11\u001b[39m     index_params={\u001b[33m\"\u001b[39m\u001b[33mindex_type\u001b[39m\u001b[33m\"\u001b[39m: \u001b[33m\"\u001b[39m\u001b[33mAUTOINDEX\u001b[39m\u001b[33m\"\u001b[39m},\n\u001b[32m     12\u001b[39m )\n",
      "\u001b[36mFile \u001b[39m\u001b[32m~\\anaconda3\\envs\\py312_env\\Lib\\site-packages\\langchain_milvus\\vectorstores\\milvus.py:380\u001b[39m, in \u001b[36mMilvus.__init__\u001b[39m\u001b[34m(self, embedding_function, collection_name, collection_description, collection_properties, connection_args, consistency_level, index_params, search_params, drop_old, auto_id, primary_field, text_field, vector_field, enable_dynamic_field, metadata_field, partition_key_field, num_partitions, partition_names, replica_number, timeout, num_shards, vector_schema, metadata_schema, builtin_function)\u001b[39m\n\u001b[32m    378\u001b[39m \u001b[38;5;28mself\u001b[39m._connection_args = connection_args\n\u001b[32m--> \u001b[39m\u001b[32m380\u001b[39m \u001b[38;5;28mself\u001b[39m._milvus_client = MilvusClient(\n\u001b[32m    381\u001b[39m     **connection_args,\n\u001b[32m    382\u001b[39m )\n\u001b[32m    384\u001b[39m \u001b[38;5;66;03m# Safely create AsyncMilvusClient to avoid failures in multithreading\u001b[39;00m\n\u001b[32m    385\u001b[39m \u001b[38;5;66;03m# environments\u001b[39;00m\n",
      "\u001b[36mFile \u001b[39m\u001b[32m~\\anaconda3\\envs\\py312_env\\Lib\\site-packages\\pymilvus\\milvus_client\\milvus_client.py:64\u001b[39m, in \u001b[36mMilvusClient.__init__\u001b[39m\u001b[34m(self, uri, user, password, db_name, token, timeout, **kwargs)\u001b[39m\n\u001b[32m     52\u001b[39m \u001b[38;5;250m\u001b[39m\u001b[33;03m\"\"\"A client for the common Milvus use case.\u001b[39;00m\n\u001b[32m     53\u001b[39m \n\u001b[32m     54\u001b[39m \u001b[33;03mThis client attempts to hide away the complexity of using Pymilvus. In a lot ofcases what\u001b[39;00m\n\u001b[32m   (...)\u001b[39m\u001b[32m     62\u001b[39m \u001b[33;03m        to None.\u001b[39;00m\n\u001b[32m     63\u001b[39m \u001b[33;03m\"\"\"\u001b[39;00m\n\u001b[32m---> \u001b[39m\u001b[32m64\u001b[39m \u001b[38;5;28mself\u001b[39m._using = create_connection(\n\u001b[32m     65\u001b[39m     uri, token, db_name, user=user, password=password, timeout=timeout, **kwargs\n\u001b[32m     66\u001b[39m )\n\u001b[32m     67\u001b[39m \u001b[38;5;28mself\u001b[39m.is_self_hosted = \u001b[38;5;28mbool\u001b[39m(utility.get_server_type(using=\u001b[38;5;28mself\u001b[39m._using) == \u001b[33m\"\u001b[39m\u001b[33mmilvus\u001b[39m\u001b[33m\"\u001b[39m)\n",
      "\u001b[36mFile \u001b[39m\u001b[32m~\\anaconda3\\envs\\py312_env\\Lib\\site-packages\\pymilvus\\milvus_client\\_utils.py:49\u001b[39m, in \u001b[36mcreate_connection\u001b[39m\u001b[34m(uri, token, db_name, use_async, user, password, **kwargs)\u001b[39m\n\u001b[32m     48\u001b[39m     logger.error(\u001b[33m\"\u001b[39m\u001b[33mFailed to create new connection using: \u001b[39m\u001b[38;5;132;01m%s\u001b[39;00m\u001b[33m\"\u001b[39m, using)\n\u001b[32m---> \u001b[39m\u001b[32m49\u001b[39m     \u001b[38;5;28;01mraise\u001b[39;00m ex \u001b[38;5;28;01mfrom\u001b[39;00m\u001b[38;5;250m \u001b[39m\u001b[34;01mex\u001b[39;00m\n\u001b[32m     50\u001b[39m \u001b[38;5;28;01melse\u001b[39;00m:\n",
      "\u001b[36mFile \u001b[39m\u001b[32m~\\anaconda3\\envs\\py312_env\\Lib\\site-packages\\pymilvus\\milvus_client\\_utils.py:44\u001b[39m, in \u001b[36mcreate_connection\u001b[39m\u001b[34m(uri, token, db_name, use_async, user, password, **kwargs)\u001b[39m\n\u001b[32m     43\u001b[39m \u001b[38;5;28;01mtry\u001b[39;00m:\n\u001b[32m---> \u001b[39m\u001b[32m44\u001b[39m     connections.connect(\n\u001b[32m     45\u001b[39m         using, user, password, db_name, token, uri=uri, _async=use_async, **kwargs\n\u001b[32m     46\u001b[39m     )\n\u001b[32m     47\u001b[39m \u001b[38;5;28;01mexcept\u001b[39;00m \u001b[38;5;167;01mException\u001b[39;00m \u001b[38;5;28;01mas\u001b[39;00m ex:\n",
      "\u001b[36mFile \u001b[39m\u001b[32m~\\anaconda3\\envs\\py312_env\\Lib\\site-packages\\pymilvus\\orm\\connections.py:381\u001b[39m, in \u001b[36mConnections.connect\u001b[39m\u001b[34m(self, alias, user, password, db_name, token, _async, **kwargs)\u001b[39m\n\u001b[32m    380\u001b[39m \u001b[38;5;66;03m# ruff: noqa: PLC0415\u001b[39;00m\n\u001b[32m--> \u001b[39m\u001b[32m381\u001b[39m \u001b[38;5;28;01mfrom\u001b[39;00m\u001b[38;5;250m \u001b[39m\u001b[34;01mmilvus_lite\u001b[39;00m\u001b[34;01m.\u001b[39;00m\u001b[34;01mserver_manager\u001b[39;00m\u001b[38;5;250m \u001b[39m\u001b[38;5;28;01mimport\u001b[39;00m (\n\u001b[32m    382\u001b[39m     server_manager_instance,\n\u001b[32m    383\u001b[39m )\n\u001b[32m    385\u001b[39m local_uri = server_manager_instance.start_and_get_uri(kwargs[\u001b[33m\"\u001b[39m\u001b[33muri\u001b[39m\u001b[33m\"\u001b[39m])\n",
      "\u001b[31mModuleNotFoundError\u001b[39m: No module named 'milvus_lite'",
      "\nThe above exception was the direct cause of the following exception:\n",
      "\u001b[31mModuleNotFoundError\u001b[39m                       Traceback (most recent call last)",
      "    \u001b[31m[... skipping hidden 1 frame]\u001b[39m\n",
      "\u001b[36mCell\u001b[39m\u001b[36m \u001b[39m\u001b[32mIn[4]\u001b[39m\u001b[32m, line 7\u001b[39m\n\u001b[32m      5\u001b[39m \u001b[38;5;28mprint\u001b[39m(\u001b[33mf\u001b[39m\u001b[33m\"\u001b[39m\u001b[33mThe vector database will be saved to \u001b[39m\u001b[38;5;132;01m{\u001b[39;00mdb_file\u001b[38;5;132;01m}\u001b[39;00m\u001b[33m\"\u001b[39m)\n\u001b[32m----> \u001b[39m\u001b[32m7\u001b[39m vector_db = Milvus(\n\u001b[32m      8\u001b[39m     embedding_function=embeddings_model,\n\u001b[32m      9\u001b[39m     connection_args={\u001b[33m\"\u001b[39m\u001b[33muri\u001b[39m\u001b[33m\"\u001b[39m: db_file},\n\u001b[32m     10\u001b[39m     auto_id=\u001b[38;5;28;01mTrue\u001b[39;00m,\n\u001b[32m     11\u001b[39m     index_params={\u001b[33m\"\u001b[39m\u001b[33mindex_type\u001b[39m\u001b[33m\"\u001b[39m: \u001b[33m\"\u001b[39m\u001b[33mAUTOINDEX\u001b[39m\u001b[33m\"\u001b[39m},\n\u001b[32m     12\u001b[39m )\n",
      "\u001b[36mFile \u001b[39m\u001b[32m~\\anaconda3\\envs\\py312_env\\Lib\\site-packages\\langchain_milvus\\vectorstores\\milvus.py:380\u001b[39m, in \u001b[36mMilvus.__init__\u001b[39m\u001b[34m(self, embedding_function, collection_name, collection_description, collection_properties, connection_args, consistency_level, index_params, search_params, drop_old, auto_id, primary_field, text_field, vector_field, enable_dynamic_field, metadata_field, partition_key_field, num_partitions, partition_names, replica_number, timeout, num_shards, vector_schema, metadata_schema, builtin_function)\u001b[39m\n\u001b[32m    378\u001b[39m \u001b[38;5;28mself\u001b[39m._connection_args = connection_args\n\u001b[32m--> \u001b[39m\u001b[32m380\u001b[39m \u001b[38;5;28mself\u001b[39m._milvus_client = MilvusClient(\n\u001b[32m    381\u001b[39m     **connection_args,\n\u001b[32m    382\u001b[39m )\n\u001b[32m    384\u001b[39m \u001b[38;5;66;03m# Safely create AsyncMilvusClient to avoid failures in multithreading\u001b[39;00m\n\u001b[32m    385\u001b[39m \u001b[38;5;66;03m# environments\u001b[39;00m\n",
      "\u001b[36mFile \u001b[39m\u001b[32m~\\anaconda3\\envs\\py312_env\\Lib\\site-packages\\pymilvus\\milvus_client\\milvus_client.py:64\u001b[39m, in \u001b[36mMilvusClient.__init__\u001b[39m\u001b[34m(self, uri, user, password, db_name, token, timeout, **kwargs)\u001b[39m\n\u001b[32m     52\u001b[39m \u001b[38;5;250m\u001b[39m\u001b[33;03m\"\"\"A client for the common Milvus use case.\u001b[39;00m\n\u001b[32m     53\u001b[39m \n\u001b[32m     54\u001b[39m \u001b[33;03mThis client attempts to hide away the complexity of using Pymilvus. In a lot ofcases what\u001b[39;00m\n\u001b[32m   (...)\u001b[39m\u001b[32m     62\u001b[39m \u001b[33;03m        to None.\u001b[39;00m\n\u001b[32m     63\u001b[39m \u001b[33;03m\"\"\"\u001b[39;00m\n\u001b[32m---> \u001b[39m\u001b[32m64\u001b[39m \u001b[38;5;28mself\u001b[39m._using = create_connection(\n\u001b[32m     65\u001b[39m     uri, token, db_name, user=user, password=password, timeout=timeout, **kwargs\n\u001b[32m     66\u001b[39m )\n\u001b[32m     67\u001b[39m \u001b[38;5;28mself\u001b[39m.is_self_hosted = \u001b[38;5;28mbool\u001b[39m(utility.get_server_type(using=\u001b[38;5;28mself\u001b[39m._using) == \u001b[33m\"\u001b[39m\u001b[33mmilvus\u001b[39m\u001b[33m\"\u001b[39m)\n",
      "\u001b[36mFile \u001b[39m\u001b[32m~\\anaconda3\\envs\\py312_env\\Lib\\site-packages\\pymilvus\\milvus_client\\_utils.py:49\u001b[39m, in \u001b[36mcreate_connection\u001b[39m\u001b[34m(uri, token, db_name, use_async, user, password, **kwargs)\u001b[39m\n\u001b[32m     48\u001b[39m     logger.error(\u001b[33m\"\u001b[39m\u001b[33mFailed to create new connection using: \u001b[39m\u001b[38;5;132;01m%s\u001b[39;00m\u001b[33m\"\u001b[39m, using)\n\u001b[32m---> \u001b[39m\u001b[32m49\u001b[39m     \u001b[38;5;28;01mraise\u001b[39;00m ex \u001b[38;5;28;01mfrom\u001b[39;00m\u001b[38;5;250m \u001b[39m\u001b[34;01mex\u001b[39;00m\n\u001b[32m     50\u001b[39m \u001b[38;5;28;01melse\u001b[39;00m:\n",
      "\u001b[36mFile \u001b[39m\u001b[32m~\\anaconda3\\envs\\py312_env\\Lib\\site-packages\\pymilvus\\milvus_client\\_utils.py:44\u001b[39m, in \u001b[36mcreate_connection\u001b[39m\u001b[34m(uri, token, db_name, use_async, user, password, **kwargs)\u001b[39m\n\u001b[32m     43\u001b[39m \u001b[38;5;28;01mtry\u001b[39;00m:\n\u001b[32m---> \u001b[39m\u001b[32m44\u001b[39m     connections.connect(\n\u001b[32m     45\u001b[39m         using, user, password, db_name, token, uri=uri, _async=use_async, **kwargs\n\u001b[32m     46\u001b[39m     )\n\u001b[32m     47\u001b[39m \u001b[38;5;28;01mexcept\u001b[39;00m \u001b[38;5;167;01mException\u001b[39;00m \u001b[38;5;28;01mas\u001b[39;00m ex:\n",
      "\u001b[36mFile \u001b[39m\u001b[32m~\\anaconda3\\envs\\py312_env\\Lib\\site-packages\\pymilvus\\orm\\connections.py:381\u001b[39m, in \u001b[36mConnections.connect\u001b[39m\u001b[34m(self, alias, user, password, db_name, token, _async, **kwargs)\u001b[39m\n\u001b[32m    380\u001b[39m \u001b[38;5;66;03m# ruff: noqa: PLC0415\u001b[39;00m\n\u001b[32m--> \u001b[39m\u001b[32m381\u001b[39m \u001b[38;5;28;01mfrom\u001b[39;00m\u001b[38;5;250m \u001b[39m\u001b[34;01mmilvus_lite\u001b[39;00m\u001b[34;01m.\u001b[39;00m\u001b[34;01mserver_manager\u001b[39;00m\u001b[38;5;250m \u001b[39m\u001b[38;5;28;01mimport\u001b[39;00m (\n\u001b[32m    382\u001b[39m     server_manager_instance,\n\u001b[32m    383\u001b[39m )\n\u001b[32m    385\u001b[39m local_uri = server_manager_instance.start_and_get_uri(kwargs[\u001b[33m\"\u001b[39m\u001b[33muri\u001b[39m\u001b[33m\"\u001b[39m])\n",
      "\u001b[31mModuleNotFoundError\u001b[39m: No module named 'milvus_lite'",
      "\nThe above exception was the direct cause of the following exception:\n",
      "\u001b[31mModuleNotFoundError\u001b[39m                       Traceback (most recent call last)",
      "\u001b[36mCell\u001b[39m\u001b[36m \u001b[39m\u001b[32mIn[4]\u001b[39m\u001b[32m, line 7\u001b[39m\n\u001b[32m      4\u001b[39m db_file = tempfile.NamedTemporaryFile(prefix=\u001b[33m\"\u001b[39m\u001b[33mmilvus_\u001b[39m\u001b[33m\"\u001b[39m, suffix=\u001b[33m\"\u001b[39m\u001b[33m.db\u001b[39m\u001b[33m\"\u001b[39m, delete=\u001b[38;5;28;01mFalse\u001b[39;00m).name\n\u001b[32m      5\u001b[39m \u001b[38;5;28mprint\u001b[39m(\u001b[33mf\u001b[39m\u001b[33m\"\u001b[39m\u001b[33mThe vector database will be saved to \u001b[39m\u001b[38;5;132;01m{\u001b[39;00mdb_file\u001b[38;5;132;01m}\u001b[39;00m\u001b[33m\"\u001b[39m)\n\u001b[32m----> \u001b[39m\u001b[32m7\u001b[39m vector_db = Milvus(\n\u001b[32m      8\u001b[39m     embedding_function=embeddings_model,\n\u001b[32m      9\u001b[39m     connection_args={\u001b[33m\"\u001b[39m\u001b[33muri\u001b[39m\u001b[33m\"\u001b[39m: db_file},\n\u001b[32m     10\u001b[39m     auto_id=\u001b[38;5;28;01mTrue\u001b[39;00m,\n\u001b[32m     11\u001b[39m     index_params={\u001b[33m\"\u001b[39m\u001b[33mindex_type\u001b[39m\u001b[33m\"\u001b[39m: \u001b[33m\"\u001b[39m\u001b[33mAUTOINDEX\u001b[39m\u001b[33m\"\u001b[39m},\n\u001b[32m     12\u001b[39m )\n",
      "\u001b[36mFile \u001b[39m\u001b[32m~\\anaconda3\\envs\\py312_env\\Lib\\site-packages\\langchain_milvus\\vectorstores\\milvus.py:380\u001b[39m, in \u001b[36mMilvus.__init__\u001b[39m\u001b[34m(self, embedding_function, collection_name, collection_description, collection_properties, connection_args, consistency_level, index_params, search_params, drop_old, auto_id, primary_field, text_field, vector_field, enable_dynamic_field, metadata_field, partition_key_field, num_partitions, partition_names, replica_number, timeout, num_shards, vector_schema, metadata_schema, builtin_function)\u001b[39m\n\u001b[32m    377\u001b[39m \u001b[38;5;66;03m# Store connection args for potential async client creation\u001b[39;00m\n\u001b[32m    378\u001b[39m \u001b[38;5;28mself\u001b[39m._connection_args = connection_args\n\u001b[32m--> \u001b[39m\u001b[32m380\u001b[39m \u001b[38;5;28mself\u001b[39m._milvus_client = MilvusClient(\n\u001b[32m    381\u001b[39m     **connection_args,\n\u001b[32m    382\u001b[39m )\n\u001b[32m    384\u001b[39m \u001b[38;5;66;03m# Safely create AsyncMilvusClient to avoid failures in multithreading\u001b[39;00m\n\u001b[32m    385\u001b[39m \u001b[38;5;66;03m# environments\u001b[39;00m\n\u001b[32m    386\u001b[39m \u001b[38;5;28;01mtry\u001b[39;00m:\n",
      "\u001b[36mFile \u001b[39m\u001b[32m~\\anaconda3\\envs\\py312_env\\Lib\\site-packages\\pymilvus\\milvus_client\\milvus_client.py:64\u001b[39m, in \u001b[36mMilvusClient.__init__\u001b[39m\u001b[34m(self, uri, user, password, db_name, token, timeout, **kwargs)\u001b[39m\n\u001b[32m     42\u001b[39m \u001b[38;5;28;01mdef\u001b[39;00m\u001b[38;5;250m \u001b[39m\u001b[34m__init__\u001b[39m(\n\u001b[32m     43\u001b[39m     \u001b[38;5;28mself\u001b[39m,\n\u001b[32m     44\u001b[39m     uri: \u001b[38;5;28mstr\u001b[39m = \u001b[33m\"\u001b[39m\u001b[33mhttp://localhost:19530\u001b[39m\u001b[33m\"\u001b[39m,\n\u001b[32m   (...)\u001b[39m\u001b[32m     50\u001b[39m     **kwargs,\n\u001b[32m     51\u001b[39m ) -> \u001b[38;5;28;01mNone\u001b[39;00m:\n\u001b[32m     52\u001b[39m \u001b[38;5;250m    \u001b[39m\u001b[33;03m\"\"\"A client for the common Milvus use case.\u001b[39;00m\n\u001b[32m     53\u001b[39m \n\u001b[32m     54\u001b[39m \u001b[33;03m    This client attempts to hide away the complexity of using Pymilvus. In a lot ofcases what\u001b[39;00m\n\u001b[32m   (...)\u001b[39m\u001b[32m     62\u001b[39m \u001b[33;03m            to None.\u001b[39;00m\n\u001b[32m     63\u001b[39m \u001b[33;03m    \"\"\"\u001b[39;00m\n\u001b[32m---> \u001b[39m\u001b[32m64\u001b[39m     \u001b[38;5;28mself\u001b[39m._using = create_connection(\n\u001b[32m     65\u001b[39m         uri, token, db_name, user=user, password=password, timeout=timeout, **kwargs\n\u001b[32m     66\u001b[39m     )\n\u001b[32m     67\u001b[39m     \u001b[38;5;28mself\u001b[39m.is_self_hosted = \u001b[38;5;28mbool\u001b[39m(utility.get_server_type(using=\u001b[38;5;28mself\u001b[39m._using) == \u001b[33m\"\u001b[39m\u001b[33mmilvus\u001b[39m\u001b[33m\"\u001b[39m)\n",
      "\u001b[36mFile \u001b[39m\u001b[32m~\\anaconda3\\envs\\py312_env\\Lib\\site-packages\\pymilvus\\milvus_client\\_utils.py:49\u001b[39m, in \u001b[36mcreate_connection\u001b[39m\u001b[34m(uri, token, db_name, use_async, user, password, **kwargs)\u001b[39m\n\u001b[32m     47\u001b[39m \u001b[38;5;28;01mexcept\u001b[39;00m \u001b[38;5;167;01mException\u001b[39;00m \u001b[38;5;28;01mas\u001b[39;00m ex:\n\u001b[32m     48\u001b[39m     logger.error(\u001b[33m\"\u001b[39m\u001b[33mFailed to create new connection using: \u001b[39m\u001b[38;5;132;01m%s\u001b[39;00m\u001b[33m\"\u001b[39m, using)\n\u001b[32m---> \u001b[39m\u001b[32m49\u001b[39m     \u001b[38;5;28;01mraise\u001b[39;00m ex \u001b[38;5;28;01mfrom\u001b[39;00m\u001b[38;5;250m \u001b[39m\u001b[34;01mex\u001b[39;00m\n\u001b[32m     50\u001b[39m \u001b[38;5;28;01melse\u001b[39;00m:\n\u001b[32m     51\u001b[39m     logger.debug(\u001b[33m\"\u001b[39m\u001b[33mCreated new connection using: \u001b[39m\u001b[38;5;132;01m%s\u001b[39;00m\u001b[33m\"\u001b[39m, using)\n",
      "\u001b[36mFile \u001b[39m\u001b[32m~\\anaconda3\\envs\\py312_env\\Lib\\site-packages\\pymilvus\\milvus_client\\_utils.py:44\u001b[39m, in \u001b[36mcreate_connection\u001b[39m\u001b[34m(uri, token, db_name, use_async, user, password, **kwargs)\u001b[39m\n\u001b[32m     41\u001b[39m     \u001b[38;5;28;01mreturn\u001b[39;00m using\n\u001b[32m     43\u001b[39m \u001b[38;5;28;01mtry\u001b[39;00m:\n\u001b[32m---> \u001b[39m\u001b[32m44\u001b[39m     connections.connect(\n\u001b[32m     45\u001b[39m         using, user, password, db_name, token, uri=uri, _async=use_async, **kwargs\n\u001b[32m     46\u001b[39m     )\n\u001b[32m     47\u001b[39m \u001b[38;5;28;01mexcept\u001b[39;00m \u001b[38;5;167;01mException\u001b[39;00m \u001b[38;5;28;01mas\u001b[39;00m ex:\n\u001b[32m     48\u001b[39m     logger.error(\u001b[33m\"\u001b[39m\u001b[33mFailed to create new connection using: \u001b[39m\u001b[38;5;132;01m%s\u001b[39;00m\u001b[33m\"\u001b[39m, using)\n",
      "\u001b[36mFile \u001b[39m\u001b[32m~\\anaconda3\\envs\\py312_env\\Lib\\site-packages\\pymilvus\\orm\\connections.py:381\u001b[39m, in \u001b[36mConnections.connect\u001b[39m\u001b[34m(self, alias, user, password, db_name, token, _async, **kwargs)\u001b[39m\n\u001b[32m    376\u001b[39m     \u001b[38;5;28;01mraise\u001b[39;00m ConnectionConfigException(\n\u001b[32m    377\u001b[39m         message=\u001b[33mf\u001b[39m\u001b[33m\"\u001b[39m\u001b[33mOpen local milvus failed, dir: \u001b[39m\u001b[38;5;132;01m{\u001b[39;00mparent_path\u001b[38;5;132;01m}\u001b[39;00m\u001b[33m not exists\u001b[39m\u001b[33m\"\u001b[39m\n\u001b[32m    378\u001b[39m     )\n\u001b[32m    380\u001b[39m \u001b[38;5;66;03m# ruff: noqa: PLC0415\u001b[39;00m\n\u001b[32m--> \u001b[39m\u001b[32m381\u001b[39m \u001b[38;5;28;01mfrom\u001b[39;00m\u001b[38;5;250m \u001b[39m\u001b[34;01mmilvus_lite\u001b[39;00m\u001b[34;01m.\u001b[39;00m\u001b[34;01mserver_manager\u001b[39;00m\u001b[38;5;250m \u001b[39m\u001b[38;5;28;01mimport\u001b[39;00m (\n\u001b[32m    382\u001b[39m     server_manager_instance,\n\u001b[32m    383\u001b[39m )\n\u001b[32m    385\u001b[39m local_uri = server_manager_instance.start_and_get_uri(kwargs[\u001b[33m\"\u001b[39m\u001b[33muri\u001b[39m\u001b[33m\"\u001b[39m])\n\u001b[32m    386\u001b[39m \u001b[38;5;28;01mif\u001b[39;00m local_uri \u001b[38;5;129;01mis\u001b[39;00m \u001b[38;5;28;01mNone\u001b[39;00m:\n",
      "\u001b[31mModuleNotFoundError\u001b[39m: No module named 'milvus_lite'"
     ]
    }
   ],
   "source": [
    "from langchain_milvus import Milvus\n",
    "import tempfile\n",
    "\n",
    "db_file = tempfile.NamedTemporaryFile(prefix=\"milvus_\", suffix=\".db\", delete=False).name\n",
    "print(f\"The vector database will be saved to {db_file}\")\n",
    "\n",
    "vector_db = Milvus(\n",
    "    embedding_function=embeddings_model,\n",
    "    connection_args={\"uri\": db_file},\n",
    "    auto_id=True,\n",
    "    index_params={\"index_type\": \"AUTOINDEX\"},\n",
    ")"
   ]
  },
  {
   "cell_type": "code",
   "execution_count": null,
   "id": "65917a00-5f55-4769-b2ad-f6fb957d03a5",
   "metadata": {},
   "outputs": [],
   "source": [
    "from langchain_community.llms import Replicate\n",
    "from ibm_granite_community.notebook_utils import get_env_var\n",
    "\n",
    "model_path = \"ibm-granite/granite-3.3-8b-instruct\"\n",
    "model = Replicate(\n",
    "    model=model_path,\n",
    "    replicate_api_token=get_env_var('REPLICATE_API_TOKEN'),\n",
    ")\n",
    "tokenizer = AutoTokenizer.from_pretrained(model_path)"
   ]
  },
  {
   "cell_type": "code",
   "execution_count": null,
   "id": "1bb0cffb-6c15-4a4b-9a3a-3328cc304e4d",
   "metadata": {},
   "outputs": [],
   "source": [
    "import os\n",
    "import wget\n",
    "\n",
    "filename = 'state_of_the_union.txt'\n",
    "url = 'https://raw.githubusercontent.com/IBM/watson-machine-learning-samples/master/cloud/data/foundation_models/state_of_the_union.txt'\n",
    "\n",
    "if not os.path.isfile(filename):\n",
    "  wget.download(url, out=filename)"
   ]
  },
  {
   "cell_type": "code",
   "execution_count": null,
   "id": "7d692b9c-f22d-45a1-a08a-5aea855c47da",
   "metadata": {},
   "outputs": [],
   "source": [
    "from langchain.document_loaders import TextLoader\n",
    "from langchain.text_splitter import CharacterTextSplitter\n",
    "\n",
    "loader = TextLoader(filename)\n",
    "documents = loader.load()\n",
    "text_splitter = CharacterTextSplitter.from_huggingface_tokenizer(\n",
    "    tokenizer=embeddings_tokenizer,\n",
    "    chunk_size=embeddings_tokenizer.max_len_single_sentence,\n",
    "    chunk_overlap=0,\n",
    ")\n",
    "texts = text_splitter.split_documents(documents)\n",
    "doc_id = 0\n",
    "for text in texts:\n",
    "    text.metadata[\"doc_id\"] = (doc_id:=doc_id+1)\n",
    "print(f\"{len(texts)} text document chunks created\")"
   ]
  },
  {
   "cell_type": "code",
   "execution_count": null,
   "id": "d4fa1bb8-58c2-4c8f-b15e-e7e41e1c3f55",
   "metadata": {},
   "outputs": [],
   "source": [
    "ids = vector_db.add_documents(texts)\n",
    "print(f\"{len(ids)} documents added to the vector database\")"
   ]
  },
  {
   "cell_type": "code",
   "execution_count": null,
   "id": "53499d81-4c95-45c3-aef3-5b2ffdcf3695",
   "metadata": {},
   "outputs": [],
   "source": [
    "query = \"What did the president say about Ketanji Brown Jackson?\"\n",
    "docs = vector_db.similarity_search(query)\n",
    "print(f\"{len(docs)} documents returned\")\n",
    "for doc in docs:\n",
    "    print(doc)\n",
    "    print(\"=\" * 80)  # Separator for clarity"
   ]
  },
  {
   "cell_type": "code",
   "execution_count": null,
   "id": "11d75418-eed9-438e-9598-5ed662159189",
   "metadata": {},
   "outputs": [],
   "source": [
    "from ibm_granite_community.langchain import TokenizerChatPromptTemplate, create_stuff_documents_chain\n",
    "from langchain.chains.retrieval import create_retrieval_chain\n",
    "\n",
    "# Create a Granite prompt for question-answering with the retrieved context\n",
    "prompt_template = TokenizerChatPromptTemplate.from_template(\"{input}\", tokenizer=tokenizer)\n",
    "\n",
    "# Assemble the retrieval-augmented generation chain\n",
    "combine_docs_chain = create_stuff_documents_chain(\n",
    "    llm=model,\n",
    "    prompt=prompt_template,\n",
    ")\n",
    "rag_chain = create_retrieval_chain(\n",
    "    retriever=vector_db.as_retriever(),\n",
    "    combine_docs_chain=combine_docs_chain,\n",
    ")"
   ]
  },
  {
   "cell_type": "code",
   "execution_count": null,
   "id": "14f43cfb-c8cb-46cb-b78f-db184ae1db2c",
   "metadata": {},
   "outputs": [],
   "source": [
    "output = rag_chain.invoke({\"input\": query})\n",
    "\n",
    "print(output['answer'])"
   ]
  }
 ],
 "metadata": {
  "kernelspec": {
   "display_name": "Python 3 (ipykernel)",
   "language": "python",
   "name": "python3"
  },
  "language_info": {
   "codemirror_mode": {
    "name": "ipython",
    "version": 3
   },
   "file_extension": ".py",
   "mimetype": "text/x-python",
   "name": "python",
   "nbconvert_exporter": "python",
   "pygments_lexer": "ipython3",
   "version": "3.12.11"
  }
 },
 "nbformat": 4,
 "nbformat_minor": 5
}
